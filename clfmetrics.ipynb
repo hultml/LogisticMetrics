{
 "cells": [
  {
   "cell_type": "markdown",
   "metadata": {},
   "source": [
    "# Classification, Probabilities, ROC curves, and Cost"
   ]
  },
  {
   "cell_type": "markdown",
   "metadata": {},
   "source": [
    "## Setup\n",
    "\n",
    "Dont worry about the next few cells, they just set up some plotting functions for us!"
   ]
  },
  {
   "cell_type": "code",
   "execution_count": 28,
   "metadata": {},
   "outputs": [],
   "source": [
    "%matplotlib inline\n",
    "import numpy as np\n",
    "import scipy as sp\n",
    "import matplotlib as mpl\n",
    "import matplotlib.cm as cm\n",
    "import matplotlib.pyplot as plt\n",
    "import pandas as pd"
   ]
  },
  {
   "cell_type": "code",
   "execution_count": 29,
   "metadata": {},
   "outputs": [],
   "source": [
    "from sklearn.model_selection import train_test_split\n",
    "from sklearn.metrics import confusion_matrix"
   ]
  },
  {
   "cell_type": "code",
   "execution_count": 30,
   "metadata": {},
   "outputs": [],
   "source": [
    "from matplotlib.colors import ListedColormap\n",
    "cmap_light = ListedColormap(['#FFAAAA', '#AAFFAA', '#AAAAFF'])\n",
    "cmap_bold = ListedColormap(['#FF0000', '#00FF00', '#0000FF'])\n",
    "cm = plt.cm.RdBu\n",
    "cm_bright = ListedColormap(['#FF0000', '#0000FF'])\n",
    "\n",
    "def points_plot(ax, Xtr, Xte, ytr, yte, clf, mesh=True, colorscale=cmap_light, cdiscrete=cmap_bold, alpha=0.3, psize=10, zfunc=False):\n",
    "    h = .02\n",
    "    X=np.concatenate((Xtr, Xte))\n",
    "    x_min, x_max = X[:, 0].min() - .5, X[:, 0].max() + .5\n",
    "    y_min, y_max = X[:, 1].min() - .5, X[:, 1].max() + .5\n",
    "    xx, yy = np.meshgrid(np.linspace(x_min, x_max, 100),\n",
    "                         np.linspace(y_min, y_max, 100))\n",
    "\n",
    "    #plt.figure(figsize=(10,6))\n",
    "    if mesh:\n",
    "        if zfunc:\n",
    "            p0 = clf.predict_proba(np.c_[xx.ravel(), yy.ravel()])[:, 0]\n",
    "            p1 = clf.predict_proba(np.c_[xx.ravel(), yy.ravel()])[:, 1]\n",
    "            Z=zfunc(p0, p1)\n",
    "        else:\n",
    "            Z = clf.predict(np.c_[xx.ravel(), yy.ravel()])\n",
    "        Z = Z.reshape(xx.shape)\n",
    "        plt.pcolormesh(xx, yy, Z, cmap=cmap_light, alpha=alpha, axes=ax)\n",
    "    ax.scatter(Xtr[:, 0], Xtr[:, 1], c=ytr-1, cmap=cmap_bold, s=psize, alpha=alpha,edgecolor=\"k\")\n",
    "    # and testing points\n",
    "    yact=clf.predict(Xte)\n",
    "    ax.scatter(Xte[:, 0], Xte[:, 1], c=yte-1, cmap=cmap_bold, alpha=alpha, marker=\"s\", s=psize+10)\n",
    "    ax.set_xlim(xx.min(), xx.max())\n",
    "    ax.set_ylim(yy.min(), yy.max())\n",
    "    return ax,xx,yy"
   ]
  },
  {
   "cell_type": "code",
   "execution_count": 31,
   "metadata": {},
   "outputs": [],
   "source": [
    "def points_plot_prob(ax, Xtr, Xte, ytr, yte, clf, colorscale=cmap_light, cdiscrete=cmap_bold, ccolor=cm, psize=10, alpha=0.1, prob=True):\n",
    "    ax,xx,yy = points_plot(ax, Xtr, Xte, ytr, yte, clf, mesh=False, colorscale=colorscale, cdiscrete=cdiscrete, psize=psize, alpha=alpha) \n",
    "    if prob:\n",
    "        Z = clf.predict_proba(np.c_[xx.ravel(), yy.ravel()])[:, 1]\n",
    "    else:\n",
    "        Z = clf.decision_function(np.c_[xx.ravel(), yy.ravel()])\n",
    "    Z = Z.reshape(xx.shape)\n",
    "    plt.contourf(xx, yy, Z, cmap=ccolor, alpha=.2, axes=ax)\n",
    "    cs2 = plt.contour(xx, yy, Z, cmap=ccolor, alpha=.6, axes=ax)\n",
    "    plt.clabel(cs2, fmt = '%2.1f', colors = 'k', fontsize=14)\n",
    "    return ax "
   ]
  },
  {
   "cell_type": "markdown",
   "metadata": {},
   "source": [
    "## Setting up the data\n",
    "\n",
    "(I encountered this dataset in Conway, Drew, and John White. Machine learning for hackers. \" O'Reilly Media, Inc.\", 2012.)\n",
    "\n",
    "This is a  dataset of men and womrns heights and weights. The idea is to predict gender."
   ]
  },
  {
   "cell_type": "code",
   "execution_count": 32,
   "metadata": {
    "collapsed": false,
    "jupyter": {
     "outputs_hidden": false
    }
   },
   "outputs": [
    {
     "data": {
      "text/html": [
       "<div>\n",
       "<style scoped>\n",
       "    .dataframe tbody tr th:only-of-type {\n",
       "        vertical-align: middle;\n",
       "    }\n",
       "\n",
       "    .dataframe tbody tr th {\n",
       "        vertical-align: top;\n",
       "    }\n",
       "\n",
       "    .dataframe thead th {\n",
       "        text-align: right;\n",
       "    }\n",
       "</style>\n",
       "<table border=\"1\" class=\"dataframe\">\n",
       "  <thead>\n",
       "    <tr style=\"text-align: right;\">\n",
       "      <th></th>\n",
       "      <th>Gender</th>\n",
       "      <th>Height</th>\n",
       "      <th>Weight</th>\n",
       "    </tr>\n",
       "  </thead>\n",
       "  <tbody>\n",
       "    <tr>\n",
       "      <th>0</th>\n",
       "      <td>Male</td>\n",
       "      <td>73.847017</td>\n",
       "      <td>241.893563</td>\n",
       "    </tr>\n",
       "    <tr>\n",
       "      <th>1</th>\n",
       "      <td>Male</td>\n",
       "      <td>68.781904</td>\n",
       "      <td>162.310473</td>\n",
       "    </tr>\n",
       "    <tr>\n",
       "      <th>2</th>\n",
       "      <td>Male</td>\n",
       "      <td>74.110105</td>\n",
       "      <td>212.740856</td>\n",
       "    </tr>\n",
       "    <tr>\n",
       "      <th>3</th>\n",
       "      <td>Male</td>\n",
       "      <td>71.730978</td>\n",
       "      <td>220.042470</td>\n",
       "    </tr>\n",
       "    <tr>\n",
       "      <th>4</th>\n",
       "      <td>Male</td>\n",
       "      <td>69.881796</td>\n",
       "      <td>206.349801</td>\n",
       "    </tr>\n",
       "  </tbody>\n",
       "</table>\n",
       "</div>"
      ],
      "text/plain": [
       "  Gender     Height      Weight\n",
       "0   Male  73.847017  241.893563\n",
       "1   Male  68.781904  162.310473\n",
       "2   Male  74.110105  212.740856\n",
       "3   Male  71.730978  220.042470\n",
       "4   Male  69.881796  206.349801"
      ]
     },
     "execution_count": 32,
     "metadata": {},
     "output_type": "execute_result"
    }
   ],
   "source": [
    "dfhw=pd.read_csv(\"data/01_heights_weights_genders.csv\")\n",
    "dfhw.head()"
   ]
  },
  {
   "cell_type": "markdown",
   "metadata": {},
   "source": [
    "We sample 500 points from 10,000, since we actually want to see trends clearly on the plots"
   ]
  },
  {
   "cell_type": "code",
   "execution_count": 33,
   "metadata": {
    "collapsed": false,
    "jupyter": {
     "outputs_hidden": false
    }
   },
   "outputs": [
    {
     "data": {
      "text/plain": [
       "np.int64(238)"
      ]
     },
     "execution_count": 33,
     "metadata": {},
     "output_type": "execute_result"
    }
   ],
   "source": [
    "df=dfhw.sample(500, replace=False)\n",
    "np.sum(df.Gender==\"Male\")"
   ]
  },
  {
   "cell_type": "markdown",
   "metadata": {},
   "source": [
    "We split the data into training and test sets...why do we need a test set?\n",
    "\n",
    "Well if we dont have one how do we know the performance of our model on unseen data? After all we generally want to predict on new data as it comes in, so we split our original data into a train and test set so that the test set acts as a proxy for unseen data."
   ]
  },
  {
   "cell_type": "code",
   "execution_count": 34,
   "metadata": {},
   "outputs": [],
   "source": [
    "X = df[['Height', 'Weight']]\n",
    "y = 1*(df.Gender=='Male') # convers to 1 if Make and 0 otherwise"
   ]
  },
  {
   "cell_type": "code",
   "execution_count": 55,
   "metadata": {
    "collapsed": false,
    "jupyter": {
     "outputs_hidden": false
    }
   },
   "outputs": [],
   "source": [
    "# split the indices of the data, 60% train, 40% test\n",
    "itrain, itest = train_test_split(range(df.shape[0]), train_size=0.6, random_state=42)\n",
    "Xtrain = X.iloc[itrain].values # in pandas you can just pass an array of indices\n",
    "ytrain = y.iloc[itrain].values"
   ]
  },
  {
   "cell_type": "markdown",
   "metadata": {},
   "source": [
    "### Q1. Do the same thing for the test set\n",
    "\n",
    "Store the features in `Xtest` and the targets (y's) in `ytest`"
   ]
  },
  {
   "cell_type": "code",
   "execution_count": 56,
   "metadata": {},
   "outputs": [],
   "source": [
    "# your code here\n",
    "# Xtest = \n",
    "# ytest = "
   ]
  },
  {
   "cell_type": "markdown",
   "metadata": {},
   "source": [
    "## Logistic regression\n",
    "\n",
    "In `sklearn` you first create a model \"Estimator\". For example:\n",
    "\n",
    "`lin = LinearRegression()`. Then you use it to fit on the training data:\n",
    "\n",
    "`lin.fit(Xtrain, ytrain)`.\n",
    "\n",
    "We do this below for Logistic Regression."
   ]
  },
  {
   "cell_type": "code",
   "execution_count": 57,
   "metadata": {
    "collapsed": false,
    "jupyter": {
     "outputs_hidden": false
    }
   },
   "outputs": [
    {
     "data": {
      "text/html": [
       "<style>#sk-container-id-4 {\n",
       "  /* Definition of color scheme common for light and dark mode */\n",
       "  --sklearn-color-text: black;\n",
       "  --sklearn-color-line: gray;\n",
       "  /* Definition of color scheme for unfitted estimators */\n",
       "  --sklearn-color-unfitted-level-0: #fff5e6;\n",
       "  --sklearn-color-unfitted-level-1: #f6e4d2;\n",
       "  --sklearn-color-unfitted-level-2: #ffe0b3;\n",
       "  --sklearn-color-unfitted-level-3: chocolate;\n",
       "  /* Definition of color scheme for fitted estimators */\n",
       "  --sklearn-color-fitted-level-0: #f0f8ff;\n",
       "  --sklearn-color-fitted-level-1: #d4ebff;\n",
       "  --sklearn-color-fitted-level-2: #b3dbfd;\n",
       "  --sklearn-color-fitted-level-3: cornflowerblue;\n",
       "\n",
       "  /* Specific color for light theme */\n",
       "  --sklearn-color-text-on-default-background: var(--sg-text-color, var(--theme-code-foreground, var(--jp-content-font-color1, black)));\n",
       "  --sklearn-color-background: var(--sg-background-color, var(--theme-background, var(--jp-layout-color0, white)));\n",
       "  --sklearn-color-border-box: var(--sg-text-color, var(--theme-code-foreground, var(--jp-content-font-color1, black)));\n",
       "  --sklearn-color-icon: #696969;\n",
       "\n",
       "  @media (prefers-color-scheme: dark) {\n",
       "    /* Redefinition of color scheme for dark theme */\n",
       "    --sklearn-color-text-on-default-background: var(--sg-text-color, var(--theme-code-foreground, var(--jp-content-font-color1, white)));\n",
       "    --sklearn-color-background: var(--sg-background-color, var(--theme-background, var(--jp-layout-color0, #111)));\n",
       "    --sklearn-color-border-box: var(--sg-text-color, var(--theme-code-foreground, var(--jp-content-font-color1, white)));\n",
       "    --sklearn-color-icon: #878787;\n",
       "  }\n",
       "}\n",
       "\n",
       "#sk-container-id-4 {\n",
       "  color: var(--sklearn-color-text);\n",
       "}\n",
       "\n",
       "#sk-container-id-4 pre {\n",
       "  padding: 0;\n",
       "}\n",
       "\n",
       "#sk-container-id-4 input.sk-hidden--visually {\n",
       "  border: 0;\n",
       "  clip: rect(1px 1px 1px 1px);\n",
       "  clip: rect(1px, 1px, 1px, 1px);\n",
       "  height: 1px;\n",
       "  margin: -1px;\n",
       "  overflow: hidden;\n",
       "  padding: 0;\n",
       "  position: absolute;\n",
       "  width: 1px;\n",
       "}\n",
       "\n",
       "#sk-container-id-4 div.sk-dashed-wrapped {\n",
       "  border: 1px dashed var(--sklearn-color-line);\n",
       "  margin: 0 0.4em 0.5em 0.4em;\n",
       "  box-sizing: border-box;\n",
       "  padding-bottom: 0.4em;\n",
       "  background-color: var(--sklearn-color-background);\n",
       "}\n",
       "\n",
       "#sk-container-id-4 div.sk-container {\n",
       "  /* jupyter's `normalize.less` sets `[hidden] { display: none; }`\n",
       "     but bootstrap.min.css set `[hidden] { display: none !important; }`\n",
       "     so we also need the `!important` here to be able to override the\n",
       "     default hidden behavior on the sphinx rendered scikit-learn.org.\n",
       "     See: https://github.com/scikit-learn/scikit-learn/issues/21755 */\n",
       "  display: inline-block !important;\n",
       "  position: relative;\n",
       "}\n",
       "\n",
       "#sk-container-id-4 div.sk-text-repr-fallback {\n",
       "  display: none;\n",
       "}\n",
       "\n",
       "div.sk-parallel-item,\n",
       "div.sk-serial,\n",
       "div.sk-item {\n",
       "  /* draw centered vertical line to link estimators */\n",
       "  background-image: linear-gradient(var(--sklearn-color-text-on-default-background), var(--sklearn-color-text-on-default-background));\n",
       "  background-size: 2px 100%;\n",
       "  background-repeat: no-repeat;\n",
       "  background-position: center center;\n",
       "}\n",
       "\n",
       "/* Parallel-specific style estimator block */\n",
       "\n",
       "#sk-container-id-4 div.sk-parallel-item::after {\n",
       "  content: \"\";\n",
       "  width: 100%;\n",
       "  border-bottom: 2px solid var(--sklearn-color-text-on-default-background);\n",
       "  flex-grow: 1;\n",
       "}\n",
       "\n",
       "#sk-container-id-4 div.sk-parallel {\n",
       "  display: flex;\n",
       "  align-items: stretch;\n",
       "  justify-content: center;\n",
       "  background-color: var(--sklearn-color-background);\n",
       "  position: relative;\n",
       "}\n",
       "\n",
       "#sk-container-id-4 div.sk-parallel-item {\n",
       "  display: flex;\n",
       "  flex-direction: column;\n",
       "}\n",
       "\n",
       "#sk-container-id-4 div.sk-parallel-item:first-child::after {\n",
       "  align-self: flex-end;\n",
       "  width: 50%;\n",
       "}\n",
       "\n",
       "#sk-container-id-4 div.sk-parallel-item:last-child::after {\n",
       "  align-self: flex-start;\n",
       "  width: 50%;\n",
       "}\n",
       "\n",
       "#sk-container-id-4 div.sk-parallel-item:only-child::after {\n",
       "  width: 0;\n",
       "}\n",
       "\n",
       "/* Serial-specific style estimator block */\n",
       "\n",
       "#sk-container-id-4 div.sk-serial {\n",
       "  display: flex;\n",
       "  flex-direction: column;\n",
       "  align-items: center;\n",
       "  background-color: var(--sklearn-color-background);\n",
       "  padding-right: 1em;\n",
       "  padding-left: 1em;\n",
       "}\n",
       "\n",
       "\n",
       "/* Toggleable style: style used for estimator/Pipeline/ColumnTransformer box that is\n",
       "clickable and can be expanded/collapsed.\n",
       "- Pipeline and ColumnTransformer use this feature and define the default style\n",
       "- Estimators will overwrite some part of the style using the `sk-estimator` class\n",
       "*/\n",
       "\n",
       "/* Pipeline and ColumnTransformer style (default) */\n",
       "\n",
       "#sk-container-id-4 div.sk-toggleable {\n",
       "  /* Default theme specific background. It is overwritten whether we have a\n",
       "  specific estimator or a Pipeline/ColumnTransformer */\n",
       "  background-color: var(--sklearn-color-background);\n",
       "}\n",
       "\n",
       "/* Toggleable label */\n",
       "#sk-container-id-4 label.sk-toggleable__label {\n",
       "  cursor: pointer;\n",
       "  display: block;\n",
       "  width: 100%;\n",
       "  margin-bottom: 0;\n",
       "  padding: 0.5em;\n",
       "  box-sizing: border-box;\n",
       "  text-align: center;\n",
       "}\n",
       "\n",
       "#sk-container-id-4 label.sk-toggleable__label-arrow:before {\n",
       "  /* Arrow on the left of the label */\n",
       "  content: \"▸\";\n",
       "  float: left;\n",
       "  margin-right: 0.25em;\n",
       "  color: var(--sklearn-color-icon);\n",
       "}\n",
       "\n",
       "#sk-container-id-4 label.sk-toggleable__label-arrow:hover:before {\n",
       "  color: var(--sklearn-color-text);\n",
       "}\n",
       "\n",
       "/* Toggleable content - dropdown */\n",
       "\n",
       "#sk-container-id-4 div.sk-toggleable__content {\n",
       "  max-height: 0;\n",
       "  max-width: 0;\n",
       "  overflow: hidden;\n",
       "  text-align: left;\n",
       "  /* unfitted */\n",
       "  background-color: var(--sklearn-color-unfitted-level-0);\n",
       "}\n",
       "\n",
       "#sk-container-id-4 div.sk-toggleable__content.fitted {\n",
       "  /* fitted */\n",
       "  background-color: var(--sklearn-color-fitted-level-0);\n",
       "}\n",
       "\n",
       "#sk-container-id-4 div.sk-toggleable__content pre {\n",
       "  margin: 0.2em;\n",
       "  border-radius: 0.25em;\n",
       "  color: var(--sklearn-color-text);\n",
       "  /* unfitted */\n",
       "  background-color: var(--sklearn-color-unfitted-level-0);\n",
       "}\n",
       "\n",
       "#sk-container-id-4 div.sk-toggleable__content.fitted pre {\n",
       "  /* unfitted */\n",
       "  background-color: var(--sklearn-color-fitted-level-0);\n",
       "}\n",
       "\n",
       "#sk-container-id-4 input.sk-toggleable__control:checked~div.sk-toggleable__content {\n",
       "  /* Expand drop-down */\n",
       "  max-height: 200px;\n",
       "  max-width: 100%;\n",
       "  overflow: auto;\n",
       "}\n",
       "\n",
       "#sk-container-id-4 input.sk-toggleable__control:checked~label.sk-toggleable__label-arrow:before {\n",
       "  content: \"▾\";\n",
       "}\n",
       "\n",
       "/* Pipeline/ColumnTransformer-specific style */\n",
       "\n",
       "#sk-container-id-4 div.sk-label input.sk-toggleable__control:checked~label.sk-toggleable__label {\n",
       "  color: var(--sklearn-color-text);\n",
       "  background-color: var(--sklearn-color-unfitted-level-2);\n",
       "}\n",
       "\n",
       "#sk-container-id-4 div.sk-label.fitted input.sk-toggleable__control:checked~label.sk-toggleable__label {\n",
       "  background-color: var(--sklearn-color-fitted-level-2);\n",
       "}\n",
       "\n",
       "/* Estimator-specific style */\n",
       "\n",
       "/* Colorize estimator box */\n",
       "#sk-container-id-4 div.sk-estimator input.sk-toggleable__control:checked~label.sk-toggleable__label {\n",
       "  /* unfitted */\n",
       "  background-color: var(--sklearn-color-unfitted-level-2);\n",
       "}\n",
       "\n",
       "#sk-container-id-4 div.sk-estimator.fitted input.sk-toggleable__control:checked~label.sk-toggleable__label {\n",
       "  /* fitted */\n",
       "  background-color: var(--sklearn-color-fitted-level-2);\n",
       "}\n",
       "\n",
       "#sk-container-id-4 div.sk-label label.sk-toggleable__label,\n",
       "#sk-container-id-4 div.sk-label label {\n",
       "  /* The background is the default theme color */\n",
       "  color: var(--sklearn-color-text-on-default-background);\n",
       "}\n",
       "\n",
       "/* On hover, darken the color of the background */\n",
       "#sk-container-id-4 div.sk-label:hover label.sk-toggleable__label {\n",
       "  color: var(--sklearn-color-text);\n",
       "  background-color: var(--sklearn-color-unfitted-level-2);\n",
       "}\n",
       "\n",
       "/* Label box, darken color on hover, fitted */\n",
       "#sk-container-id-4 div.sk-label.fitted:hover label.sk-toggleable__label.fitted {\n",
       "  color: var(--sklearn-color-text);\n",
       "  background-color: var(--sklearn-color-fitted-level-2);\n",
       "}\n",
       "\n",
       "/* Estimator label */\n",
       "\n",
       "#sk-container-id-4 div.sk-label label {\n",
       "  font-family: monospace;\n",
       "  font-weight: bold;\n",
       "  display: inline-block;\n",
       "  line-height: 1.2em;\n",
       "}\n",
       "\n",
       "#sk-container-id-4 div.sk-label-container {\n",
       "  text-align: center;\n",
       "}\n",
       "\n",
       "/* Estimator-specific */\n",
       "#sk-container-id-4 div.sk-estimator {\n",
       "  font-family: monospace;\n",
       "  border: 1px dotted var(--sklearn-color-border-box);\n",
       "  border-radius: 0.25em;\n",
       "  box-sizing: border-box;\n",
       "  margin-bottom: 0.5em;\n",
       "  /* unfitted */\n",
       "  background-color: var(--sklearn-color-unfitted-level-0);\n",
       "}\n",
       "\n",
       "#sk-container-id-4 div.sk-estimator.fitted {\n",
       "  /* fitted */\n",
       "  background-color: var(--sklearn-color-fitted-level-0);\n",
       "}\n",
       "\n",
       "/* on hover */\n",
       "#sk-container-id-4 div.sk-estimator:hover {\n",
       "  /* unfitted */\n",
       "  background-color: var(--sklearn-color-unfitted-level-2);\n",
       "}\n",
       "\n",
       "#sk-container-id-4 div.sk-estimator.fitted:hover {\n",
       "  /* fitted */\n",
       "  background-color: var(--sklearn-color-fitted-level-2);\n",
       "}\n",
       "\n",
       "/* Specification for estimator info (e.g. \"i\" and \"?\") */\n",
       "\n",
       "/* Common style for \"i\" and \"?\" */\n",
       "\n",
       ".sk-estimator-doc-link,\n",
       "a:link.sk-estimator-doc-link,\n",
       "a:visited.sk-estimator-doc-link {\n",
       "  float: right;\n",
       "  font-size: smaller;\n",
       "  line-height: 1em;\n",
       "  font-family: monospace;\n",
       "  background-color: var(--sklearn-color-background);\n",
       "  border-radius: 1em;\n",
       "  height: 1em;\n",
       "  width: 1em;\n",
       "  text-decoration: none !important;\n",
       "  margin-left: 1ex;\n",
       "  /* unfitted */\n",
       "  border: var(--sklearn-color-unfitted-level-1) 1pt solid;\n",
       "  color: var(--sklearn-color-unfitted-level-1);\n",
       "}\n",
       "\n",
       ".sk-estimator-doc-link.fitted,\n",
       "a:link.sk-estimator-doc-link.fitted,\n",
       "a:visited.sk-estimator-doc-link.fitted {\n",
       "  /* fitted */\n",
       "  border: var(--sklearn-color-fitted-level-1) 1pt solid;\n",
       "  color: var(--sklearn-color-fitted-level-1);\n",
       "}\n",
       "\n",
       "/* On hover */\n",
       "div.sk-estimator:hover .sk-estimator-doc-link:hover,\n",
       ".sk-estimator-doc-link:hover,\n",
       "div.sk-label-container:hover .sk-estimator-doc-link:hover,\n",
       ".sk-estimator-doc-link:hover {\n",
       "  /* unfitted */\n",
       "  background-color: var(--sklearn-color-unfitted-level-3);\n",
       "  color: var(--sklearn-color-background);\n",
       "  text-decoration: none;\n",
       "}\n",
       "\n",
       "div.sk-estimator.fitted:hover .sk-estimator-doc-link.fitted:hover,\n",
       ".sk-estimator-doc-link.fitted:hover,\n",
       "div.sk-label-container:hover .sk-estimator-doc-link.fitted:hover,\n",
       ".sk-estimator-doc-link.fitted:hover {\n",
       "  /* fitted */\n",
       "  background-color: var(--sklearn-color-fitted-level-3);\n",
       "  color: var(--sklearn-color-background);\n",
       "  text-decoration: none;\n",
       "}\n",
       "\n",
       "/* Span, style for the box shown on hovering the info icon */\n",
       ".sk-estimator-doc-link span {\n",
       "  display: none;\n",
       "  z-index: 9999;\n",
       "  position: relative;\n",
       "  font-weight: normal;\n",
       "  right: .2ex;\n",
       "  padding: .5ex;\n",
       "  margin: .5ex;\n",
       "  width: min-content;\n",
       "  min-width: 20ex;\n",
       "  max-width: 50ex;\n",
       "  color: var(--sklearn-color-text);\n",
       "  box-shadow: 2pt 2pt 4pt #999;\n",
       "  /* unfitted */\n",
       "  background: var(--sklearn-color-unfitted-level-0);\n",
       "  border: .5pt solid var(--sklearn-color-unfitted-level-3);\n",
       "}\n",
       "\n",
       ".sk-estimator-doc-link.fitted span {\n",
       "  /* fitted */\n",
       "  background: var(--sklearn-color-fitted-level-0);\n",
       "  border: var(--sklearn-color-fitted-level-3);\n",
       "}\n",
       "\n",
       ".sk-estimator-doc-link:hover span {\n",
       "  display: block;\n",
       "}\n",
       "\n",
       "/* \"?\"-specific style due to the `<a>` HTML tag */\n",
       "\n",
       "#sk-container-id-4 a.estimator_doc_link {\n",
       "  float: right;\n",
       "  font-size: 1rem;\n",
       "  line-height: 1em;\n",
       "  font-family: monospace;\n",
       "  background-color: var(--sklearn-color-background);\n",
       "  border-radius: 1rem;\n",
       "  height: 1rem;\n",
       "  width: 1rem;\n",
       "  text-decoration: none;\n",
       "  /* unfitted */\n",
       "  color: var(--sklearn-color-unfitted-level-1);\n",
       "  border: var(--sklearn-color-unfitted-level-1) 1pt solid;\n",
       "}\n",
       "\n",
       "#sk-container-id-4 a.estimator_doc_link.fitted {\n",
       "  /* fitted */\n",
       "  border: var(--sklearn-color-fitted-level-1) 1pt solid;\n",
       "  color: var(--sklearn-color-fitted-level-1);\n",
       "}\n",
       "\n",
       "/* On hover */\n",
       "#sk-container-id-4 a.estimator_doc_link:hover {\n",
       "  /* unfitted */\n",
       "  background-color: var(--sklearn-color-unfitted-level-3);\n",
       "  color: var(--sklearn-color-background);\n",
       "  text-decoration: none;\n",
       "}\n",
       "\n",
       "#sk-container-id-4 a.estimator_doc_link.fitted:hover {\n",
       "  /* fitted */\n",
       "  background-color: var(--sklearn-color-fitted-level-3);\n",
       "}\n",
       "</style><div id=\"sk-container-id-4\" class=\"sk-top-container\"><div class=\"sk-text-repr-fallback\"><pre>LogisticRegression(C=10000)</pre><b>In a Jupyter environment, please rerun this cell to show the HTML representation or trust the notebook. <br />On GitHub, the HTML representation is unable to render, please try loading this page with nbviewer.org.</b></div><div class=\"sk-container\" hidden><div class=\"sk-item\"><div class=\"sk-estimator fitted sk-toggleable\"><input class=\"sk-toggleable__control sk-hidden--visually\" id=\"sk-estimator-id-4\" type=\"checkbox\" checked><label for=\"sk-estimator-id-4\" class=\"sk-toggleable__label fitted sk-toggleable__label-arrow fitted\">&nbsp;&nbsp;LogisticRegression<a class=\"sk-estimator-doc-link fitted\" rel=\"noreferrer\" target=\"_blank\" href=\"https://scikit-learn.org/1.5/modules/generated/sklearn.linear_model.LogisticRegression.html\">?<span>Documentation for LogisticRegression</span></a><span class=\"sk-estimator-doc-link fitted\">i<span>Fitted</span></span></label><div class=\"sk-toggleable__content fitted\"><pre>LogisticRegression(C=10000)</pre></div> </div></div></div></div>"
      ],
      "text/plain": [
       "LogisticRegression(C=10000)"
      ]
     },
     "execution_count": 57,
     "metadata": {},
     "output_type": "execute_result"
    }
   ],
   "source": [
    "from sklearn.linear_model import LogisticRegression\n",
    "clflog = LogisticRegression(C=10000) # we'll explain this C later\n",
    "clflog.fit(Xtrain, ytrain)"
   ]
  },
  {
   "cell_type": "markdown",
   "metadata": {},
   "source": [
    "Now we have a fitted logistic regression classifier and we can use it to `predict`"
   ]
  },
  {
   "cell_type": "code",
   "execution_count": 41,
   "metadata": {},
   "outputs": [
    {
     "data": {
      "text/plain": [
       "array([0, 1, 0, 1, 0, 0, 1, 1, 0, 1, 0, 1, 1, 0, 0, 0, 1, 0, 0, 0, 1, 1,\n",
       "       0, 1, 0, 1, 1, 0, 1, 0, 0, 0, 1, 1, 1, 0, 1, 1, 1, 1, 0, 1, 0, 1,\n",
       "       1, 0, 1, 0, 1, 1, 0, 1, 1, 1, 1, 0, 1, 0, 1, 0, 1, 0, 0, 1, 0, 1,\n",
       "       1, 1, 1, 1, 0, 1, 0, 0, 1, 0, 0, 0, 1, 1, 0, 0, 0, 1, 0, 1, 0, 1,\n",
       "       0, 1, 0, 1, 0, 0, 1, 1, 1, 0, 1, 1, 1, 0, 1, 0, 0, 0, 0, 0, 0, 0,\n",
       "       0, 0, 0, 0, 1, 1, 0, 1, 0, 1, 0, 0, 1, 1, 0, 0, 0, 0, 1, 0, 0, 1,\n",
       "       1, 1, 1, 0, 1, 0, 1, 1, 0, 1, 1, 0, 0, 0, 1, 1, 0, 0, 0, 0, 1, 0,\n",
       "       0, 0, 1, 0, 1, 0, 1, 1, 0, 1, 1, 0, 1, 0, 0, 0, 1, 1, 0, 1, 1, 1,\n",
       "       0, 0, 0, 1, 0, 1, 1, 0, 0, 1, 0, 1, 1, 1, 1, 0, 1, 1, 1, 0, 1, 0,\n",
       "       1, 0, 0, 1, 0, 1, 1, 0, 0, 0, 0, 0, 0, 1, 0, 0, 1, 1, 1, 0, 1, 0,\n",
       "       0, 0, 1, 0, 1, 1, 0, 0, 0, 0, 1, 1, 1, 0, 0, 1, 0, 0, 1, 1, 0, 0,\n",
       "       1, 1, 1, 1, 1, 1, 1, 1, 0, 0, 1, 1, 0, 1, 1, 1, 0, 0, 1, 1, 0, 0,\n",
       "       0, 1, 0, 0, 1, 0, 0, 1, 1, 1, 0, 0, 1, 0, 1, 0, 0, 0, 0, 1, 0, 1,\n",
       "       0, 0, 0, 1, 0, 0, 1, 0, 0, 0, 1, 1, 0, 0])"
      ]
     },
     "execution_count": 41,
     "metadata": {},
     "output_type": "execute_result"
    }
   ],
   "source": [
    "clflog.predict(Xtrain)"
   ]
  },
  {
   "cell_type": "markdown",
   "metadata": {},
   "source": [
    "### Q2: Make a prediction on the test set\n",
    "\n",
    "Display the predictions on the test set."
   ]
  },
  {
   "cell_type": "code",
   "execution_count": 54,
   "metadata": {},
   "outputs": [],
   "source": [
    "# your code here"
   ]
  },
  {
   "cell_type": "markdown",
   "metadata": {},
   "source": [
    "In `sklearn`, `clf.predict(test_data)` makes predictions on the assumption that a 0.5 probability threshold is the appropriate thing to do."
   ]
  },
  {
   "cell_type": "markdown",
   "metadata": {},
   "source": [
    "The probabilities output by the classifier can be accessed as below. The second column (`[:,1]`) in numpy parlance, google numpy indexing to understand the syntax) gives the probability that the sample is a 1 (or +ive), here Male."
   ]
  },
  {
   "cell_type": "code",
   "execution_count": 18,
   "metadata": {
    "collapsed": false,
    "jupyter": {
     "outputs_hidden": false
    }
   },
   "outputs": [
    {
     "data": {
      "text/plain": [
       "array([[9.94588235e-01, 5.41176504e-03],\n",
       "       [5.21635264e-03, 9.94783647e-01],\n",
       "       [1.12772609e-02, 9.88722739e-01],\n",
       "       [9.89319742e-01, 1.06802575e-02],\n",
       "       [9.94019714e-01, 5.98028616e-03],\n",
       "       [9.98931446e-01, 1.06855377e-03],\n",
       "       [1.24558144e-01, 8.75441856e-01],\n",
       "       [4.38042344e-01, 5.61957656e-01],\n",
       "       [4.64191482e-04, 9.99535809e-01],\n",
       "       [9.83021297e-01, 1.69787035e-02],\n",
       "       [2.39830033e-03, 9.97601700e-01],\n",
       "       [1.12165647e-01, 8.87834353e-01],\n",
       "       [9.15229067e-01, 8.47709335e-02],\n",
       "       [9.16666200e-01, 8.33338003e-02],\n",
       "       [9.87971857e-01, 1.20281431e-02],\n",
       "       [9.98134998e-01, 1.86500196e-03],\n",
       "       [2.43995587e-01, 7.56004413e-01],\n",
       "       [3.76107734e-02, 9.62389227e-01],\n",
       "       [5.08109742e-01, 4.91890258e-01],\n",
       "       [9.98378835e-01, 1.62116532e-03],\n",
       "       [1.03229255e-01, 8.96770745e-01],\n",
       "       [1.00304843e-01, 8.99695157e-01],\n",
       "       [5.71155692e-01, 4.28844308e-01],\n",
       "       [1.12539532e-02, 9.88746047e-01],\n",
       "       [9.99720949e-01, 2.79050641e-04],\n",
       "       [9.93843681e-01, 6.15631918e-03],\n",
       "       [9.94921828e-01, 5.07817155e-03],\n",
       "       [9.98910141e-01, 1.08985874e-03],\n",
       "       [9.83423099e-01, 1.65769009e-02],\n",
       "       [7.70430991e-01, 2.29569009e-01],\n",
       "       [1.02129263e-01, 8.97870737e-01],\n",
       "       [6.27634138e-02, 9.37236586e-01],\n",
       "       [9.99090626e-01, 9.09373572e-04],\n",
       "       [2.25887253e-01, 7.74112747e-01],\n",
       "       [4.74241426e-01, 5.25758574e-01],\n",
       "       [7.10436691e-01, 2.89563309e-01],\n",
       "       [9.07122058e-01, 9.28779424e-02],\n",
       "       [9.80743241e-01, 1.92567589e-02],\n",
       "       [9.88061101e-01, 1.19388989e-02],\n",
       "       [1.59979939e-01, 8.40020061e-01],\n",
       "       [2.94923385e-01, 7.05076615e-01],\n",
       "       [3.14468622e-01, 6.85531378e-01],\n",
       "       [9.60828707e-01, 3.91712926e-02],\n",
       "       [1.86699476e-01, 8.13300524e-01],\n",
       "       [1.94679358e-01, 8.05320642e-01],\n",
       "       [9.95334565e-01, 4.66543507e-03],\n",
       "       [9.03115177e-01, 9.68848231e-02],\n",
       "       [2.82637563e-01, 7.17362437e-01],\n",
       "       [3.92926680e-01, 6.07073320e-01],\n",
       "       [5.24494405e-01, 4.75505595e-01],\n",
       "       [4.91178107e-02, 9.50882189e-01],\n",
       "       [6.88937711e-01, 3.11062289e-01],\n",
       "       [3.15177367e-02, 9.68482263e-01],\n",
       "       [7.07227797e-03, 9.92927722e-01],\n",
       "       [9.03639244e-01, 9.63607562e-02],\n",
       "       [2.80912214e-01, 7.19087786e-01],\n",
       "       [5.78212700e-02, 9.42178730e-01],\n",
       "       [3.70060025e-02, 9.62993998e-01],\n",
       "       [2.33937820e-01, 7.66062180e-01],\n",
       "       [8.50885262e-01, 1.49114738e-01],\n",
       "       [3.29479796e-01, 6.70520204e-01],\n",
       "       [2.73250831e-02, 9.72674917e-01],\n",
       "       [1.93124151e-01, 8.06875849e-01],\n",
       "       [9.36439402e-01, 6.35605983e-02],\n",
       "       [1.68539653e-01, 8.31460347e-01],\n",
       "       [5.53403300e-02, 9.44659670e-01],\n",
       "       [3.92469090e-01, 6.07530910e-01],\n",
       "       [1.98654935e-04, 9.99801345e-01],\n",
       "       [9.85165990e-01, 1.48340097e-02],\n",
       "       [9.64603060e-01, 3.53969398e-02],\n",
       "       [8.56218846e-01, 1.43781154e-01],\n",
       "       [9.18443629e-01, 8.15563709e-02],\n",
       "       [9.80802067e-01, 1.91979334e-02],\n",
       "       [1.10205676e-03, 9.98897943e-01],\n",
       "       [9.67043115e-01, 3.29568846e-02],\n",
       "       [9.66806901e-01, 3.31930989e-02],\n",
       "       [8.12756462e-01, 1.87243538e-01],\n",
       "       [9.11806901e-01, 8.81930992e-02],\n",
       "       [9.73711427e-01, 2.62885726e-02],\n",
       "       [6.67607894e-03, 9.93323921e-01],\n",
       "       [7.66131748e-01, 2.33868252e-01],\n",
       "       [9.97414325e-01, 2.58567522e-03],\n",
       "       [9.58855440e-03, 9.90411446e-01],\n",
       "       [7.56494849e-03, 9.92435052e-01],\n",
       "       [9.96282859e-01, 3.71714128e-03],\n",
       "       [1.92034397e-01, 8.07965603e-01],\n",
       "       [9.48817988e-01, 5.11820123e-02],\n",
       "       [2.84072698e-03, 9.97159273e-01],\n",
       "       [2.39099612e-02, 9.76090039e-01],\n",
       "       [4.33432821e-01, 5.66567179e-01],\n",
       "       [9.94299713e-01, 5.70028696e-03],\n",
       "       [5.47341530e-02, 9.45265847e-01],\n",
       "       [6.52908642e-01, 3.47091358e-01],\n",
       "       [9.39314124e-01, 6.06858761e-02],\n",
       "       [9.89666385e-01, 1.03336147e-02],\n",
       "       [7.46623879e-04, 9.99253376e-01],\n",
       "       [1.96513280e-02, 9.80348672e-01],\n",
       "       [9.96319417e-02, 9.00368058e-01],\n",
       "       [9.81401214e-01, 1.85987862e-02],\n",
       "       [9.99022818e-01, 9.77182491e-04],\n",
       "       [9.62523248e-01, 3.74767516e-02],\n",
       "       [9.54132838e-01, 4.58671621e-02],\n",
       "       [8.25566171e-03, 9.91744338e-01],\n",
       "       [2.37631188e-03, 9.97623688e-01],\n",
       "       [1.94320992e-02, 9.80567901e-01],\n",
       "       [8.96946050e-01, 1.03053950e-01],\n",
       "       [2.43532863e-02, 9.75646714e-01],\n",
       "       [7.21167629e-01, 2.78832371e-01],\n",
       "       [9.88930427e-01, 1.10695729e-02],\n",
       "       [1.96973655e-02, 9.80302635e-01],\n",
       "       [8.34368497e-01, 1.65631503e-01],\n",
       "       [9.80317349e-01, 1.96826508e-02],\n",
       "       [9.32159761e-01, 6.78402394e-02],\n",
       "       [1.68377332e-03, 9.98316227e-01],\n",
       "       [4.07315540e-02, 9.59268446e-01],\n",
       "       [1.01335367e-01, 8.98664633e-01],\n",
       "       [4.14887176e-01, 5.85112824e-01],\n",
       "       [9.99512119e-01, 4.87881219e-04],\n",
       "       [1.22896302e-01, 8.77103698e-01],\n",
       "       [9.85357703e-01, 1.46422974e-02],\n",
       "       [9.92229643e-01, 7.77035670e-03],\n",
       "       [9.95601724e-01, 4.39827557e-03],\n",
       "       [9.61413550e-01, 3.85864500e-02],\n",
       "       [8.07716469e-01, 1.92283531e-01],\n",
       "       [8.69157226e-01, 1.30842774e-01],\n",
       "       [3.29669739e-01, 6.70330261e-01],\n",
       "       [9.97859333e-01, 2.14066666e-03],\n",
       "       [9.03672828e-01, 9.63271717e-02],\n",
       "       [8.35698461e-01, 1.64301539e-01],\n",
       "       [9.92657223e-01, 7.34277728e-03],\n",
       "       [3.39836863e-01, 6.60163137e-01],\n",
       "       [9.59768962e-01, 4.02310381e-02],\n",
       "       [8.64966807e-01, 1.35033193e-01],\n",
       "       [7.31829643e-01, 2.68170357e-01],\n",
       "       [2.73495803e-01, 7.26504197e-01],\n",
       "       [7.87330187e-03, 9.92126698e-01],\n",
       "       [9.52556691e-01, 4.74433093e-02],\n",
       "       [9.99243565e-01, 7.56434604e-04],\n",
       "       [1.16193431e-01, 8.83806569e-01],\n",
       "       [9.97565260e-01, 2.43473989e-03],\n",
       "       [9.97121013e-01, 2.87898727e-03],\n",
       "       [6.47485177e-01, 3.52514823e-01],\n",
       "       [3.82367996e-01, 6.17632004e-01],\n",
       "       [3.38092645e-02, 9.66190736e-01],\n",
       "       [9.97618785e-01, 2.38121459e-03],\n",
       "       [3.09506755e-02, 9.69049325e-01],\n",
       "       [9.21717308e-01, 7.82826921e-02],\n",
       "       [5.64576308e-01, 4.35423692e-01],\n",
       "       [4.22366450e-02, 9.57763355e-01],\n",
       "       [9.79211428e-01, 2.07885722e-02],\n",
       "       [7.41353643e-02, 9.25864636e-01],\n",
       "       [9.70781240e-01, 2.92187601e-02],\n",
       "       [9.99354243e-01, 6.45756989e-04],\n",
       "       [9.63009516e-01, 3.69904842e-02],\n",
       "       [2.61597694e-01, 7.38402306e-01],\n",
       "       [1.85735474e-01, 8.14264526e-01],\n",
       "       [1.29728689e-01, 8.70271311e-01],\n",
       "       [3.34883013e-02, 9.66511699e-01],\n",
       "       [4.00682500e-02, 9.59931750e-01],\n",
       "       [6.68550673e-03, 9.93314493e-01],\n",
       "       [2.40303161e-01, 7.59696839e-01],\n",
       "       [2.48614580e-02, 9.75138542e-01],\n",
       "       [9.94142386e-01, 5.85761437e-03],\n",
       "       [5.48392206e-01, 4.51607794e-01],\n",
       "       [8.39502007e-01, 1.60497993e-01],\n",
       "       [3.92472713e-02, 9.60752729e-01],\n",
       "       [9.99464716e-01, 5.35284010e-04],\n",
       "       [8.82111247e-01, 1.17888753e-01],\n",
       "       [1.89693815e-02, 9.81030619e-01],\n",
       "       [9.85715663e-01, 1.42843371e-02],\n",
       "       [7.70213775e-01, 2.29786225e-01],\n",
       "       [2.26978632e-02, 9.77302137e-01],\n",
       "       [9.47115068e-01, 5.28849321e-02],\n",
       "       [1.80814936e-02, 9.81918506e-01],\n",
       "       [9.97325954e-01, 2.67404591e-03],\n",
       "       [2.74874467e-01, 7.25125533e-01],\n",
       "       [9.67793365e-01, 3.22066352e-02],\n",
       "       [3.33408783e-02, 9.66659122e-01],\n",
       "       [9.84955063e-01, 1.50449369e-02],\n",
       "       [9.98518317e-01, 1.48168348e-03],\n",
       "       [9.91166222e-01, 8.83377769e-03],\n",
       "       [9.50564003e-01, 4.94359969e-02],\n",
       "       [1.11397913e-01, 8.88602087e-01],\n",
       "       [2.24005442e-01, 7.75994558e-01],\n",
       "       [7.91083113e-01, 2.08916887e-01],\n",
       "       [9.88592784e-01, 1.14072163e-02],\n",
       "       [2.76803993e-01, 7.23196007e-01],\n",
       "       [8.29011523e-01, 1.70988477e-01],\n",
       "       [8.26275617e-01, 1.73724383e-01],\n",
       "       [9.97523496e-01, 2.47650401e-03],\n",
       "       [8.51938637e-01, 1.48061363e-01],\n",
       "       [1.19276553e-01, 8.80723447e-01],\n",
       "       [9.91204664e-01, 8.79533627e-03],\n",
       "       [3.60469034e-01, 6.39530966e-01],\n",
       "       [1.33503153e-01, 8.66496847e-01],\n",
       "       [5.51879654e-02, 9.44812035e-01],\n",
       "       [8.38137504e-01, 1.61862496e-01],\n",
       "       [9.09957971e-01, 9.00420295e-02],\n",
       "       [9.99591358e-01, 4.08642278e-04],\n",
       "       [1.84357330e-01, 8.15642670e-01]])"
      ]
     },
     "execution_count": 18,
     "metadata": {},
     "output_type": "execute_result"
    }
   ],
   "source": [
    "clflog.predict_proba(Xtest)"
   ]
  },
  {
   "cell_type": "code",
   "execution_count": 19,
   "metadata": {
    "collapsed": false,
    "jupyter": {
     "outputs_hidden": false
    }
   },
   "outputs": [
    {
     "data": {
      "text/plain": [
       "array([5.41176504e-03, 9.94783647e-01, 9.88722739e-01, 1.06802575e-02,\n",
       "       5.98028616e-03, 1.06855377e-03, 8.75441856e-01, 5.61957656e-01,\n",
       "       9.99535809e-01, 1.69787035e-02, 9.97601700e-01, 8.87834353e-01,\n",
       "       8.47709335e-02, 8.33338003e-02, 1.20281431e-02, 1.86500196e-03,\n",
       "       7.56004413e-01, 9.62389227e-01, 4.91890258e-01, 1.62116532e-03,\n",
       "       8.96770745e-01, 8.99695157e-01, 4.28844308e-01, 9.88746047e-01,\n",
       "       2.79050641e-04, 6.15631918e-03, 5.07817155e-03, 1.08985874e-03,\n",
       "       1.65769009e-02, 2.29569009e-01, 8.97870737e-01, 9.37236586e-01,\n",
       "       9.09373572e-04, 7.74112747e-01, 5.25758574e-01, 2.89563309e-01,\n",
       "       9.28779424e-02, 1.92567589e-02, 1.19388989e-02, 8.40020061e-01,\n",
       "       7.05076615e-01, 6.85531378e-01, 3.91712926e-02, 8.13300524e-01,\n",
       "       8.05320642e-01, 4.66543507e-03, 9.68848231e-02, 7.17362437e-01,\n",
       "       6.07073320e-01, 4.75505595e-01, 9.50882189e-01, 3.11062289e-01,\n",
       "       9.68482263e-01, 9.92927722e-01, 9.63607562e-02, 7.19087786e-01,\n",
       "       9.42178730e-01, 9.62993998e-01, 7.66062180e-01, 1.49114738e-01,\n",
       "       6.70520204e-01, 9.72674917e-01, 8.06875849e-01, 6.35605983e-02,\n",
       "       8.31460347e-01, 9.44659670e-01, 6.07530910e-01, 9.99801345e-01,\n",
       "       1.48340097e-02, 3.53969398e-02, 1.43781154e-01, 8.15563709e-02,\n",
       "       1.91979334e-02, 9.98897943e-01, 3.29568846e-02, 3.31930989e-02,\n",
       "       1.87243538e-01, 8.81930992e-02, 2.62885726e-02, 9.93323921e-01,\n",
       "       2.33868252e-01, 2.58567522e-03, 9.90411446e-01, 9.92435052e-01,\n",
       "       3.71714128e-03, 8.07965603e-01, 5.11820123e-02, 9.97159273e-01,\n",
       "       9.76090039e-01, 5.66567179e-01, 5.70028696e-03, 9.45265847e-01,\n",
       "       3.47091358e-01, 6.06858761e-02, 1.03336147e-02, 9.99253376e-01,\n",
       "       9.80348672e-01, 9.00368058e-01, 1.85987862e-02, 9.77182491e-04,\n",
       "       3.74767516e-02, 4.58671621e-02, 9.91744338e-01, 9.97623688e-01,\n",
       "       9.80567901e-01, 1.03053950e-01, 9.75646714e-01, 2.78832371e-01,\n",
       "       1.10695729e-02, 9.80302635e-01, 1.65631503e-01, 1.96826508e-02,\n",
       "       6.78402394e-02, 9.98316227e-01, 9.59268446e-01, 8.98664633e-01,\n",
       "       5.85112824e-01, 4.87881219e-04, 8.77103698e-01, 1.46422974e-02,\n",
       "       7.77035670e-03, 4.39827557e-03, 3.85864500e-02, 1.92283531e-01,\n",
       "       1.30842774e-01, 6.70330261e-01, 2.14066666e-03, 9.63271717e-02,\n",
       "       1.64301539e-01, 7.34277728e-03, 6.60163137e-01, 4.02310381e-02,\n",
       "       1.35033193e-01, 2.68170357e-01, 7.26504197e-01, 9.92126698e-01,\n",
       "       4.74433093e-02, 7.56434604e-04, 8.83806569e-01, 2.43473989e-03,\n",
       "       2.87898727e-03, 3.52514823e-01, 6.17632004e-01, 9.66190736e-01,\n",
       "       2.38121459e-03, 9.69049325e-01, 7.82826921e-02, 4.35423692e-01,\n",
       "       9.57763355e-01, 2.07885722e-02, 9.25864636e-01, 2.92187601e-02,\n",
       "       6.45756989e-04, 3.69904842e-02, 7.38402306e-01, 8.14264526e-01,\n",
       "       8.70271311e-01, 9.66511699e-01, 9.59931750e-01, 9.93314493e-01,\n",
       "       7.59696839e-01, 9.75138542e-01, 5.85761437e-03, 4.51607794e-01,\n",
       "       1.60497993e-01, 9.60752729e-01, 5.35284010e-04, 1.17888753e-01,\n",
       "       9.81030619e-01, 1.42843371e-02, 2.29786225e-01, 9.77302137e-01,\n",
       "       5.28849321e-02, 9.81918506e-01, 2.67404591e-03, 7.25125533e-01,\n",
       "       3.22066352e-02, 9.66659122e-01, 1.50449369e-02, 1.48168348e-03,\n",
       "       8.83377769e-03, 4.94359969e-02, 8.88602087e-01, 7.75994558e-01,\n",
       "       2.08916887e-01, 1.14072163e-02, 7.23196007e-01, 1.70988477e-01,\n",
       "       1.73724383e-01, 2.47650401e-03, 1.48061363e-01, 8.80723447e-01,\n",
       "       8.79533627e-03, 6.39530966e-01, 8.66496847e-01, 9.44812035e-01,\n",
       "       1.61862496e-01, 9.00420295e-02, 4.08642278e-04, 8.15642670e-01])"
      ]
     },
     "execution_count": 19,
     "metadata": {},
     "output_type": "execute_result"
    }
   ],
   "source": [
    "clflog.predict_proba(Xtest)[:,1] # get the probabilities"
   ]
  },
  {
   "cell_type": "markdown",
   "metadata": {},
   "source": [
    "Lots of sure females and sure males when you plot the probability of being a male:"
   ]
  },
  {
   "cell_type": "code",
   "execution_count": 20,
   "metadata": {
    "collapsed": false,
    "jupyter": {
     "outputs_hidden": false
    }
   },
   "outputs": [
    {
     "data": {
      "image/png": "[encoded data removed]",
      "text/plain": [
       "<Figure size 640x480 with 1 Axes>"
      ]
     },
     "metadata": {},
     "output_type": "display_data"
    }
   ],
   "source": [
    "plt.hist(clflog.predict_proba(Xtest)[:,1]*100);"
   ]
  },
  {
   "cell_type": "markdown",
   "metadata": {},
   "source": [
    "We can plot the probability contours: these are rather tight!"
   ]
  },
  {
   "cell_type": "code",
   "execution_count": 21,
   "metadata": {
    "collapsed": false,
    "jupyter": {
     "outputs_hidden": false
    }
   },
   "outputs": [
    {
     "name": "stderr",
     "output_type": "stream",
     "text": [
      "/var/folders/wq/mr3zj9r14dzgjnq9rjx_vqbc0000gn/T/ipykernel_18782/638263581.py:8: UserWarning: The following kwargs were not used by contour: 'axes'\n",
      "  plt.contourf(xx, yy, Z, cmap=ccolor, alpha=.2, axes=ax)\n",
      "/var/folders/wq/mr3zj9r14dzgjnq9rjx_vqbc0000gn/T/ipykernel_18782/638263581.py:9: UserWarning: The following kwargs were not used by contour: 'axes'\n",
      "  cs2 = plt.contour(xx, yy, Z, cmap=ccolor, alpha=.6, axes=ax)\n"
     ]
    },
    {
     "data": {
      "image/png": "[encoded data removed]",
      "text/plain": [
       "<Figure size 640x480 with 1 Axes>"
      ]
     },
     "metadata": {},
     "output_type": "display_data"
    }
   ],
   "source": [
    "plt.figure()\n",
    "ax=plt.gca()\n",
    "points_plot(ax, Xtrain, Xtest, ytrain, ytest, clflog, mesh=False, alpha=0.001);\n",
    "points_plot_prob(ax, Xtrain, Xtest, ytrain, ytest, clflog);"
   ]
  },
  {
   "cell_type": "markdown",
   "metadata": {},
   "source": [
    "The score function of the estimator is used to evaluate a parameter setting. These are the sklearn.metrics.accuracy_score for classification and sklearn.metrics.r2_score for regression. For some applications, other scoring functions are better suited (for example in unbalanced classification, the accuracy score is often uninformative)."
   ]
  },
  {
   "cell_type": "code",
   "execution_count": 22,
   "metadata": {
    "collapsed": false,
    "jupyter": {
     "outputs_hidden": false
    }
   },
   "outputs": [
    {
     "data": {
      "text/plain": [
       "0.91"
      ]
     },
     "execution_count": 22,
     "metadata": {},
     "output_type": "execute_result"
    }
   ],
   "source": [
    "clflog.score(Xtest, ytest)"
   ]
  },
  {
   "cell_type": "markdown",
   "metadata": {},
   "source": [
    "You can access the accuracy score directly:"
   ]
  },
  {
   "cell_type": "code",
   "execution_count": 44,
   "metadata": {},
   "outputs": [
    {
     "data": {
      "text/plain": [
       "0.92"
      ]
     },
     "execution_count": 44,
     "metadata": {},
     "output_type": "execute_result"
    }
   ],
   "source": [
    "from sklearn.metrics import accuracy_score\n",
    "accuracy_score(ytrain, clflog.predict(Xtrain))"
   ]
  },
  {
   "cell_type": "markdown",
   "metadata": {},
   "source": [
    "### Q3. Calculate the accuracy on the test set.\n",
    "\n",
    "It should roughly equal the output of `clflog.score` above...why might the accuracy be less on the test set than the training set?"
   ]
  },
  {
   "cell_type": "code",
   "execution_count": 53,
   "metadata": {},
   "outputs": [],
   "source": [
    "# your code here\n"
   ]
  },
  {
   "cell_type": "markdown",
   "metadata": {},
   "source": [
    "### Callibration\n",
    "\n",
    "Classification models give us probability scores.\n",
    "\n",
    "We can compute probabilities of a particular classification -- the `predict_proba` and `predict_log_proba` methods  compute these probabilities.\n",
    "\n",
    "You should always assess whether these probabilities are calibrated -- that is, whether a prediction made with a confidence of x% is correct approximately x% of the time. That is, for example, if a weather forecaster makes on multiple days in a decade a 10% chance of rain, and lets say there were 800 such days: then roughly 10% of these days we get rain: i.e. 80 days. This is what a good forecast means.\n",
    "\n",
    "Let's make a plot to assess model calibration. Schematically, we want something like this:\n",
    "\n",
    "![](http://i.imgur.com/ea5B6zr.png)"
   ]
  },
  {
   "cell_type": "code",
   "execution_count": 46,
   "metadata": {},
   "outputs": [
    {
     "data": {
      "image/png": "[encoded data removed]",
      "text/plain": [
       "<Figure size 1000x1000 with 2 Axes>"
      ]
     },
     "metadata": {},
     "output_type": "display_data"
    }
   ],
   "source": [
    "from sklearn.metrics import brier_score_loss\n",
    "from sklearn.calibration import  calibration_curve\n",
    "fig = plt.figure(figsize=(10, 10))\n",
    "ax1 = plt.subplot2grid((3, 1), (0, 0), rowspan=2)\n",
    "ax2 = plt.subplot2grid((3, 1), (2, 0))\n",
    "prob_pos = clflog.predict_proba(Xtest)[:, 1]\n",
    "fraction_of_positives, mean_predicted_value = \\\n",
    "            calibration_curve(ytest, prob_pos, n_bins=20)\n",
    "clf_score = brier_score_loss(ytest, prob_pos, pos_label=ytest.max())\n",
    "ax1.plot(mean_predicted_value, fraction_of_positives, \"s-\",\n",
    "         label=\"(%1.3f)\" % (clf_score))\n",
    "ax1.plot([0,1], [0,1], \"k--\")\n",
    "ax2.hist(prob_pos, range=(0, 1), bins=10, label=\"logistic\",\n",
    "         histtype=\"step\", lw=2)\n",
    "\n",
    "ax1.set_ylabel(\"Fraction of positives\")\n",
    "ax1.set_ylim([-0.05, 1.05])\n",
    "ax1.legend(loc=\"lower right\")\n",
    "ax1.set_title('Calibration plots  (reliability curve)')\n",
    "\n",
    "ax2.set_xlabel(\"Mean predicted value\")\n",
    "ax2.set_ylabel(\"Count\")\n",
    "ax2.legend(loc=\"upper center\", ncol=2)\n",
    "\n",
    "plt.tight_layout()\n"
   ]
  },
  {
   "cell_type": "markdown",
   "metadata": {},
   "source": [
    "This is not bad, though it is a bit noisy about the 45 degree line which is the line of perfect callibration\n",
    "\n",
    "## The confusion Matrix"
   ]
  },
  {
   "cell_type": "markdown",
   "metadata": {},
   "source": [
    " A classifier will get some samples right, and some wrong. Generally we see which ones it gets right and which ones it gets wrong on the test set. There,\n",
    "\n",
    "- the samples that are +ive and the classifier predicts as +ive are called True Positives (TP)\n",
    "- the samples that are -ive and the classifier predicts (wrongly) as +ive are called False Positives (FP)\n",
    "- the samples that are -ive and the classifier predicts as -ive are called True Negatives (TN)\n",
    "- the samples that are +ive and the classifier predicts as -ive are called False Negatives (FN)\n",
    "\n",
    "A classifier produces a confusion matrix from these which lookslike this:\n",
    "\n",
    "![hwimages](./images/confusionmatrix.png)\n",
    "\n",
    "\n",
    "IMPORTANT NOTE: In sklearn, to obtain the confusion matrix in the form above, always have the observed `y` first, i.e.: use as `confusion_matrix(y_true, y_pred)`"
   ]
  },
  {
   "cell_type": "code",
   "execution_count": 24,
   "metadata": {
    "collapsed": false,
    "jupyter": {
     "outputs_hidden": false
    }
   },
   "outputs": [
    {
     "data": {
      "text/plain": [
       "array([[99,  8],\n",
       "       [10, 83]])"
      ]
     },
     "execution_count": 24,
     "metadata": {},
     "output_type": "execute_result"
    }
   ],
   "source": [
    "confusion_matrix(ytest, clflog.predict(Xtest))"
   ]
  },
  {
   "cell_type": "markdown",
   "metadata": {},
   "source": [
    "### Q4. What does the confusion matrix look like on the training set?"
   ]
  },
  {
   "cell_type": "code",
   "execution_count": 58,
   "metadata": {},
   "outputs": [],
   "source": [
    "# your code here\n"
   ]
  },
  {
   "cell_type": "markdown",
   "metadata": {},
   "source": [
    "Given these definitions, we typically calculate a few metrics for our classifier. First, the **True Positive Rate**:\n",
    "\n",
    "$$TPR = Recall = \\frac{TP}{OP} = \\frac{TP}{TP+FN},$$\n",
    "\n",
    "also called the Hit Rate: the fraction of observed positives (1s) the classifier gets right, or *how many true positives were recalled* or *how many of the actual positives was your model able to find*. Maximizing the recall towards 1 means keeping down the false negative rate. In a classifier try to find cancer patients, this is the number we want to maximize.\n",
    "\n",
    "The **False Positive Rate** is defined as\n",
    "\n",
    "$$FPR = \\frac{FP}{ON} = \\frac{FP}{FP+TN},$$\n",
    "\n",
    "also called the False Alarm Rate, the fraction of observed negatives (0s) the classifier gets wrong. In general, you want this number to be low. \n",
    "\n",
    "Instead, you might want to maximize the\n",
    "**Precision**,which tells you *how many of the predicted positive(1) hits were truly positive*\n",
    "\n",
    "$$Precision = \\frac{TP}{PP} = \\frac{TP}{TP+FP}.$$\n",
    "\n",
    "Finally the **F1** score gives us the Harmonic Score of Precision and Recall. Many analysts will try and find a classifier that maximizes this score, since it tries to minimize both false positives and false negatives simultaneously, and is thus a bit more precise in what it is trying to do than the accuracy.\n",
    "\n",
    "$$F1 =  \\frac{2*Recall*Precision}{Recall + Precision}$$\n",
    "\n",
    "\n",
    "`scikit-learn` helpfully gives us a classification report with all these numbers"
   ]
  },
  {
   "cell_type": "code",
   "execution_count": 25,
   "metadata": {
    "collapsed": false,
    "jupyter": {
     "outputs_hidden": false
    }
   },
   "outputs": [
    {
     "name": "stdout",
     "output_type": "stream",
     "text": [
      "              precision    recall  f1-score   support\n",
      "\n",
      "           0       0.91      0.93      0.92       107\n",
      "           1       0.91      0.89      0.90        93\n",
      "\n",
      "    accuracy                           0.91       200\n",
      "   macro avg       0.91      0.91      0.91       200\n",
      "weighted avg       0.91      0.91      0.91       200\n",
      "\n"
     ]
    }
   ],
   "source": [
    "from sklearn.metrics import classification_report\n",
    "print(classification_report(ytest, clflog.predict(Xtest)))"
   ]
  },
  {
   "cell_type": "markdown",
   "metadata": {},
   "source": [
    "## The cancer doctor\n",
    "\n",
    "Do you really want to be setting a threshold of 0.5 probability to predict if a patient has cancer or not? The false negative problem: ie the chance you predict someone dosent have cancer who has cancer is much higher for such a threshold. You could kill someone by telling them not to get a biopsy. Why not play it safe and assume a much lower threshold: for eg, if the probability of 1(cancer) is greater than 0.05, we'll call it a 1."
   ]
  },
  {
   "cell_type": "code",
   "execution_count": 47,
   "metadata": {},
   "outputs": [],
   "source": [
    "def t_repredict(est,t, Xtest):\n",
    "    probs=est.predict_proba(Xtest)\n",
    "    p0 = probs[:,0]\n",
    "    p1 = probs[:,1]\n",
    "    ypred = (p1 > t)*1\n",
    "    return ypred"
   ]
  },
  {
   "cell_type": "markdown",
   "metadata": {},
   "source": [
    "See how the false negatives get suppressed?"
   ]
  },
  {
   "cell_type": "code",
   "execution_count": 50,
   "metadata": {},
   "outputs": [
    {
     "data": {
      "text/plain": [
       "array([[72, 37],\n",
       "       [ 1, 90]])"
      ]
     },
     "execution_count": 50,
     "metadata": {},
     "output_type": "execute_result"
    }
   ],
   "source": [
    "confusion_matrix(ytest, t_repredict(clflog, 0.05, Xtest))"
   ]
  }
 ],
 "metadata": {
  "kernelspec": {
   "display_name": "Python 3 (ipykernel)",
   "language": "python",
   "name": "python3"
  },
  "language_info": {
   "codemirror_mode": {
    "name": "ipython",
    "version": 3
   },
   "file_extension": ".py",
   "mimetype": "text/x-python",
   "name": "python",
   "nbconvert_exporter": "python",
   "pygments_lexer": "ipython3",
   "version": "3.13.0"
  }
 },
 "nbformat": 4,
 "nbformat_minor": 4
}
